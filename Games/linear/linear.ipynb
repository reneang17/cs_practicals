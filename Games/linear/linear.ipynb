{
 "cells": [
  {
   "cell_type": "code",
   "execution_count": 382,
   "metadata": {},
   "outputs": [
    {
     "data": {
      "text/plain": [
       "array([[ 0.91488902, 13.04194508,  1.05339481, -0.17015642, -0.54357686,\n",
       "         9.71577893]])"
      ]
     },
     "execution_count": 382,
     "metadata": {},
     "output_type": "execute_result"
    }
   ],
   "source": [
    "import numpy as np\n",
    "import pandas as pd\n",
    "df = pd.read_csv('./data/USA_Housing.csv')\n",
    "X_all = np.array(df.iloc[:,0:-2])\n",
    "y_all = np.array(df.iloc[:,-2]).reshape((len(df), 1))\n",
    "\n",
    "class Linear():\n",
    "    def __init__(self, X, y, iters = 10000 ):\n",
    "        self.X = np.concatenate((np.ones(y.shape), X),axis =1)\n",
    "        self.y = y\n",
    "        self.preds = np.zeros(y.shape)\n",
    "        self.n = y.shape[0]\n",
    "        self.loss = None\n",
    "        self.lr = 0.0000000001\n",
    "        self.beta = np.random.uniform(low=-1.0, high=1.0, size= (1, self.X.shape[1]) )  \n",
    "        self.grad = np.random.uniform(low=-1.0, high=1.0, size= self.beta.shape )\n",
    "        self.iters = iters\n",
    "        \n",
    "    def forward(self):\n",
    "        self.preds = np.sum(self.X *self.beta, axis =1, keepdims=True)\n",
    "        \n",
    "    def backward(self):\n",
    "        self.grad =2*  np.mean((self.preds - self.y)* self.X, axis=0, keepdims=True )\n",
    "        self.beta = self.beta -  self.lr * self.grad       \n",
    "        \n",
    "    def calculate_loss(self):\n",
    "        self.loss = np.mean( (self.y - self.preds)**2 )\n",
    "        \n",
    "    def fit(self):\n",
    "        for _ in range(self.iters):\n",
    "            self.forward()\n",
    "            self.backward()\n",
    "            self.calculate_loss()\n",
    "            #print(self.loss)\n",
    "\n",
    "linear= Linear(X_all, y_all)\n",
    "linear.fit()\n",
    "linear.beta\n"
   ]
  },
  {
   "cell_type": "code",
   "execution_count": 74,
   "metadata": {},
   "outputs": [],
   "source": []
  },
  {
   "cell_type": "code",
   "execution_count": 75,
   "metadata": {},
   "outputs": [
    {
     "data": {
      "text/html": [
       "<div>\n",
       "<style scoped>\n",
       "    .dataframe tbody tr th:only-of-type {\n",
       "        vertical-align: middle;\n",
       "    }\n",
       "\n",
       "    .dataframe tbody tr th {\n",
       "        vertical-align: top;\n",
       "    }\n",
       "\n",
       "    .dataframe thead th {\n",
       "        text-align: right;\n",
       "    }\n",
       "</style>\n",
       "<table border=\"1\" class=\"dataframe\">\n",
       "  <thead>\n",
       "    <tr style=\"text-align: right;\">\n",
       "      <th></th>\n",
       "      <th>Avg. Area Income</th>\n",
       "      <th>Avg. Area House Age</th>\n",
       "      <th>Avg. Area Number of Rooms</th>\n",
       "      <th>Avg. Area Number of Bedrooms</th>\n",
       "      <th>Area Population</th>\n",
       "      <th>Price</th>\n",
       "      <th>Address</th>\n",
       "    </tr>\n",
       "  </thead>\n",
       "  <tbody>\n",
       "    <tr>\n",
       "      <th>0</th>\n",
       "      <td>79545.458574</td>\n",
       "      <td>5.682861</td>\n",
       "      <td>7.009188</td>\n",
       "      <td>4.09</td>\n",
       "      <td>23086.800503</td>\n",
       "      <td>1.059034e+06</td>\n",
       "      <td>208 Michael Ferry Apt. 674\\nLaurabury, NE 3701...</td>\n",
       "    </tr>\n",
       "    <tr>\n",
       "      <th>1</th>\n",
       "      <td>79248.642455</td>\n",
       "      <td>6.002900</td>\n",
       "      <td>6.730821</td>\n",
       "      <td>3.09</td>\n",
       "      <td>40173.072174</td>\n",
       "      <td>1.505891e+06</td>\n",
       "      <td>188 Johnson Views Suite 079\\nLake Kathleen, CA...</td>\n",
       "    </tr>\n",
       "    <tr>\n",
       "      <th>2</th>\n",
       "      <td>61287.067179</td>\n",
       "      <td>5.865890</td>\n",
       "      <td>8.512727</td>\n",
       "      <td>5.13</td>\n",
       "      <td>36882.159400</td>\n",
       "      <td>1.058988e+06</td>\n",
       "      <td>9127 Elizabeth Stravenue\\nDanieltown, WI 06482...</td>\n",
       "    </tr>\n",
       "    <tr>\n",
       "      <th>3</th>\n",
       "      <td>63345.240046</td>\n",
       "      <td>7.188236</td>\n",
       "      <td>5.586729</td>\n",
       "      <td>3.26</td>\n",
       "      <td>34310.242831</td>\n",
       "      <td>1.260617e+06</td>\n",
       "      <td>USS Barnett\\nFPO AP 44820</td>\n",
       "    </tr>\n",
       "    <tr>\n",
       "      <th>4</th>\n",
       "      <td>59982.197226</td>\n",
       "      <td>5.040555</td>\n",
       "      <td>7.839388</td>\n",
       "      <td>4.23</td>\n",
       "      <td>26354.109472</td>\n",
       "      <td>6.309435e+05</td>\n",
       "      <td>USNS Raymond\\nFPO AE 09386</td>\n",
       "    </tr>\n",
       "  </tbody>\n",
       "</table>\n",
       "</div>"
      ],
      "text/plain": [
       "   Avg. Area Income  Avg. Area House Age  Avg. Area Number of Rooms  \\\n",
       "0      79545.458574             5.682861                   7.009188   \n",
       "1      79248.642455             6.002900                   6.730821   \n",
       "2      61287.067179             5.865890                   8.512727   \n",
       "3      63345.240046             7.188236                   5.586729   \n",
       "4      59982.197226             5.040555                   7.839388   \n",
       "\n",
       "   Avg. Area Number of Bedrooms  Area Population         Price  \\\n",
       "0                          4.09     23086.800503  1.059034e+06   \n",
       "1                          3.09     40173.072174  1.505891e+06   \n",
       "2                          5.13     36882.159400  1.058988e+06   \n",
       "3                          3.26     34310.242831  1.260617e+06   \n",
       "4                          4.23     26354.109472  6.309435e+05   \n",
       "\n",
       "                                             Address  \n",
       "0  208 Michael Ferry Apt. 674\\nLaurabury, NE 3701...  \n",
       "1  188 Johnson Views Suite 079\\nLake Kathleen, CA...  \n",
       "2  9127 Elizabeth Stravenue\\nDanieltown, WI 06482...  \n",
       "3                          USS Barnett\\nFPO AP 44820  \n",
       "4                         USNS Raymond\\nFPO AE 09386  "
      ]
     },
     "execution_count": 75,
     "metadata": {},
     "output_type": "execute_result"
    }
   ],
   "source": []
  },
  {
   "cell_type": "code",
   "execution_count": 76,
   "metadata": {},
   "outputs": [],
   "source": []
  },
  {
   "cell_type": "code",
   "execution_count": 72,
   "metadata": {},
   "outputs": [
    {
     "data": {
      "text/plain": [
       "array([[1.],\n",
       "       [1.],\n",
       "       [1.],\n",
       "       ...,\n",
       "       [1.],\n",
       "       [1.],\n",
       "       [1.]])"
      ]
     },
     "execution_count": 72,
     "metadata": {},
     "output_type": "execute_result"
    }
   ],
   "source": [
    "\n",
    "\n"
   ]
  },
  {
   "cell_type": "code",
   "execution_count": 379,
   "metadata": {},
   "outputs": [
    {
     "data": {
      "text/plain": [
       "array([[ 0.81940427, 13.04192667,  0.69367933, -0.43717147,  0.86693872,\n",
       "         9.71577292]])"
      ]
     },
     "execution_count": 379,
     "metadata": {},
     "output_type": "execute_result"
    }
   ],
   "source": [
    "class Linear():\n",
    "    def __init__(self, X, y, iters = 10000 ):\n",
    "        self.X = np.concatenate((np.ones(y.shape), X),axis =1)\n",
    "        self.y = y\n",
    "        self.preds = np.zeros(y.shape)\n",
    "        self.n = y.shape[0]\n",
    "        self.loss = None\n",
    "        self.lr = 0.0000000001\n",
    "        self.beta = np.random.uniform(low=-1.0, high=1.0, size= (1, self.X.shape[1]) )  \n",
    "        self.grad = np.random.uniform(low=-1.0, high=1.0, size= self.beta.shape )\n",
    "        self.iters = iters \n",
    "        \n",
    "    def forward(self):\n",
    "        self.preds = np.sum(self.X *self.beta, axis =1, keepdims=True)\n",
    "        \n",
    "    def backward(self):\n",
    "        self.grad =2*  np.mean((self.preds - self.y)* self.X, axis=0, keepdims=True ) \n",
    "        self.beta = self.beta -  self.lr * self.grad       \n",
    "        \n",
    "    def calculate_loss(self):\n",
    "        self.loss = np.mean( (self.y - self.preds)**2 )\n",
    "        \n",
    "    def fit(self):\n",
    "        for _ in range(self.iters):\n",
    "            self.forward()\n",
    "            self.backward()\n",
    "            self.calculate_loss()\n",
    "            #print(self.loss) \n",
    "\n",
    "linear= Linear(X_all, y_all)\n",
    "linear.fit()\n",
    "linear.beta"
   ]
  },
  {
   "cell_type": "code",
   "execution_count": 381,
   "metadata": {},
   "outputs": [],
   "source": [
    "import matplotlib.pyplot as plt"
   ]
  },
  {
   "cell_type": "code",
   "execution_count": null,
   "metadata": {},
   "outputs": [],
   "source": []
  }
 ],
 "metadata": {
  "kernelspec": {
   "display_name": "Python 3",
   "language": "python",
   "name": "python3"
  },
  "language_info": {
   "codemirror_mode": {
    "name": "ipython",
    "version": 3
   },
   "file_extension": ".py",
   "mimetype": "text/x-python",
   "name": "python",
   "nbconvert_exporter": "python",
   "pygments_lexer": "ipython3",
   "version": "3.7.1"
  }
 },
 "nbformat": 4,
 "nbformat_minor": 2
}
