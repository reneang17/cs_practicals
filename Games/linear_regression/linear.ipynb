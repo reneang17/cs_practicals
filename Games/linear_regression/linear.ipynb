{
 "cells": [
  {
   "cell_type": "code",
   "execution_count": 11,
   "metadata": {},
   "outputs": [
    {
     "data": {
      "text/plain": [
       "array([[-0.71753596, 13.04203786,  0.0400795 , -0.14941976, -0.78216353,\n",
       "         9.71583367]])"
      ]
     },
     "execution_count": 11,
     "metadata": {},
     "output_type": "execute_result"
    }
   ],
   "source": [
    "import numpy as np\n",
    "import pandas as pd\n",
    "df = pd.read_csv('../../data/USA_Housing.csv')\n",
    "X_all = np.array(df.iloc[:,0:-2])\n",
    "y_all = np.array(df.iloc[:,-2]).reshape((len(df), 1))\n",
    "\n",
    "class Linear():\n",
    "    def __init__(self, X, y, iters = 10000 ):\n",
    "        self.X = np.concatenate((np.ones(y.shape), X),axis =1)\n",
    "        self.y = y\n",
    "        self.preds = np.zeros(y.shape)\n",
    "        self.n = y.shape[0]\n",
    "        self.loss = None\n",
    "        self.lr = 0.0000000001\n",
    "        self.beta = np.random.uniform(low=-1.0, high=1.0, size= (1, self.X.shape[1]) )  \n",
    "        self.grad = np.random.uniform(low=-1.0, high=1.0, size= self.beta.shape )\n",
    "        self.iters = iters\n",
    "        \n",
    "    def forward(self):\n",
    "        self.preds = np.sum(self.X *self.beta, axis =1, keepdims=True)\n",
    "        \n",
    "    def backward(self):\n",
    "        self.grad =2*  np.mean((self.preds - self.y)* self.X, axis=0, keepdims=True )\n",
    "        self.beta = self.beta -  self.lr * self.grad       \n",
    "        \n",
    "    def calculate_loss(self):\n",
    "        self.loss = np.mean( (self.y - self.preds)**2 )\n",
    "        \n",
    "    def fit(self):\n",
    "        for _ in range(self.iters):\n",
    "            self.forward()\n",
    "            self.backward()\n",
    "            self.calculate_loss()\n",
    "            #print(self.loss)\n",
    "\n",
    "linear= Linear(X_all, y_all)\n",
    "linear.fit()\n",
    "linear.beta\n"
   ]
  },
  {
   "cell_type": "code",
   "execution_count": null,
   "metadata": {},
   "outputs": [],
   "source": []
  },
  {
   "cell_type": "code",
   "execution_count": null,
   "metadata": {},
   "outputs": [],
   "source": []
  },
  {
   "cell_type": "code",
   "execution_count": null,
   "metadata": {},
   "outputs": [],
   "source": []
  },
  {
   "cell_type": "code",
   "execution_count": null,
   "metadata": {},
   "outputs": [],
   "source": [
    "\n",
    "\n"
   ]
  },
  {
   "cell_type": "code",
   "execution_count": 12,
   "metadata": {},
   "outputs": [
    {
     "data": {
      "text/plain": [
       "array([[ 0.42564833, 13.0419097 ,  0.7488165 ,  0.67470315, -0.60908085,\n",
       "         9.71575551]])"
      ]
     },
     "execution_count": 12,
     "metadata": {},
     "output_type": "execute_result"
    }
   ],
   "source": [
    "class Linear():\n",
    "    def __init__(self, X, y, iters = 10000 ):\n",
    "        self.X = np.concatenate((np.ones(y.shape), X),axis =1)\n",
    "        self.y = y\n",
    "        self.preds = np.zeros(y.shape)\n",
    "        self.n = y.shape[0]\n",
    "        self.loss = None\n",
    "        self.lr = 0.0000000001\n",
    "        self.beta = np.random.uniform(low=-1.0, high=1.0, size= (1, self.X.shape[1]) )  \n",
    "        self.grad = np.random.uniform(low=-1.0, high=1.0, size= self.beta.shape )\n",
    "        self.iters = iters \n",
    "        \n",
    "    def forward(self):\n",
    "        self.preds = np.sum(self.X *self.beta, axis =1, keepdims=True)\n",
    "        \n",
    "    def backward(self):\n",
    "        self.grad =2*  np.mean((self.preds - self.y)* self.X, axis=0, keepdims=True ) \n",
    "        self.beta = self.beta -  self.lr * self.grad       \n",
    "        \n",
    "    def calculate_loss(self):\n",
    "        self.loss = np.mean( (self.y - self.preds)**2 )\n",
    "        \n",
    "    def fit(self):\n",
    "        for _ in range(self.iters):\n",
    "            self.forward()\n",
    "            self.backward()\n",
    "            self.calculate_loss()\n",
    "            #print(self.loss) \n",
    "\n",
    "linear= Linear(X_all, y_all)\n",
    "linear.fit()\n",
    "linear.beta"
   ]
  },
  {
   "cell_type": "code",
   "execution_count": 381,
   "metadata": {},
   "outputs": [],
   "source": [
    "import matplotlib.pyplot as plt"
   ]
  },
  {
   "cell_type": "code",
   "execution_count": null,
   "metadata": {},
   "outputs": [],
   "source": []
  }
 ],
 "metadata": {
  "kernelspec": {
   "display_name": "Python 3 (ipykernel)",
   "language": "python",
   "name": "python3"
  },
  "language_info": {
   "codemirror_mode": {
    "name": "ipython",
    "version": 3
   },
   "file_extension": ".py",
   "mimetype": "text/x-python",
   "name": "python",
   "nbconvert_exporter": "python",
   "pygments_lexer": "ipython3",
   "version": "3.9.12"
  }
 },
 "nbformat": 4,
 "nbformat_minor": 2
}
