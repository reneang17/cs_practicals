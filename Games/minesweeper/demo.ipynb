{
 "cells": [
  {
   "cell_type": "code",
   "execution_count": 27,
   "metadata": {},
   "outputs": [
    {
     "name": "stdout",
     "output_type": "stream",
     "text": [
      "The autoreload extension is already loaded. To reload it, use:\n",
      "  %reload_ext autoreload\n"
     ]
    }
   ],
   "source": [
    "%load_ext autoreload\n",
    "%autoreload 2\n",
    "from Minesweeper import *"
   ]
  },
  {
   "cell_type": "code",
   "execution_count": 20,
   "metadata": {},
   "outputs": [],
   "source": [
    "board = Board(5, 25)\n",
    "board.drawmines()"
   ]
  },
  {
   "cell_type": "code",
   "execution_count": 24,
   "metadata": {},
   "outputs": [
    {
     "name": "stdout",
     "output_type": "stream",
     "text": [
      "H\tH\tH\tH\tH\n",
      "H\tH\tH\tH\tH\n",
      "H\tH\tH\tH\tH\n",
      "H\tH\tH\tH\tH\n",
      "H\tH\tH\tH\tH\n"
     ]
    }
   ],
   "source": [
    "board.print_board()"
   ]
  },
  {
   "cell_type": "code",
   "execution_count": 31,
   "metadata": {},
   "outputs": [],
   "source": [
    "from Minesweeper import *\n",
    "game = Minesweeper(5, 1)"
   ]
  },
  {
   "cell_type": "code",
   "execution_count": 32,
   "metadata": {},
   "outputs": [
    {
     "name": "stdout",
     "output_type": "stream",
     "text": [
      "H\tH\tH\tH\tH\n",
      "H\tH\tH\tH\tH\n",
      "H\tH\tH\tH\tH\n",
      "H\tH\tH\tH\tH\n",
      "H\tH\tH\tH\tH\n",
      "Enter \"nm\" to reveal cell n of nmf to flag that cell:00\n",
      "0\t0\t0\t0\t0\n",
      "0\t0\tH\tH\tH\n",
      "0\t0\tH\tH\tH\n",
      "0\t0\tH\tH\tH\n",
      "0\t0\t0\t0\t0\n",
      "Enter \"nm\" to reveal cell n of nmf to flag that cell:22\n",
      "0\t0\t0\t0\t0\n",
      "0\t0\tH\tH\tH\n",
      "0\t0\t1\tH\tH\n",
      "0\t0\tH\tH\tH\n",
      "0\t0\t0\t0\t0\n",
      "Enter \"nm\" to reveal cell n of nmf to flag that cell:12\n",
      "0\t0\t0\t0\t0\n",
      "0\t0\t1\tH\tH\n",
      "0\t0\t1\tH\tH\n",
      "0\t0\tH\tH\tH\n",
      "0\t0\t0\t0\t0\n",
      "Enter \"nm\" to reveal cell n of nmf to flag that cell:43\n",
      "Invalid. Try again:\n",
      "Enter \"nm\" to reveal cell n of nmf to flag that cell:32\n",
      "0\t0\t0\t0\t0\n",
      "0\t0\t1\tH\tH\n",
      "0\t0\t1\tH\tH\n",
      "0\t0\t1\tH\tH\n",
      "0\t0\t0\t0\t0\n",
      "Enter \"nm\" to reveal cell n of nmf to flag that cell:13\n",
      "0\t0\t0\t0\t0\n",
      "0\t0\t1\t1\tH\n",
      "0\t0\t1\tH\tH\n",
      "0\t0\t1\tH\tH\n",
      "0\t0\t0\t0\t0\n",
      "Enter \"nm\" to reveal cell n of nmf to flag that cell:33\n",
      "0\t0\t0\t0\t0\n",
      "0\t0\t1\t1\tH\n",
      "0\t0\t1\tH\tH\n",
      "0\t0\t1\t1\tH\n",
      "0\t0\t0\t0\t0\n",
      "Enter \"nm\" to reveal cell n of nmf to flag that cell:23f\n",
      "0\t0\t0\t0\t0\n",
      "0\t0\t1\t1\tH\n",
      "0\t0\t1\tf\tH\n",
      "0\t0\t1\t1\tH\n",
      "0\t0\t0\t0\t0\n",
      "Enter \"nm\" to reveal cell n of nmf to flag that cell:14\n",
      "0\t0\t0\t0\t0\n",
      "0\t0\t1\t1\t1\n",
      "0\t0\t1\tf\tH\n",
      "0\t0\t1\t1\tH\n",
      "0\t0\t0\t0\t0\n",
      "Enter \"nm\" to reveal cell n of nmf to flag that cell:24\n",
      "0\t0\t0\t0\t0\n",
      "0\t0\t1\t1\t1\n",
      "0\t0\t1\tf\t1\n",
      "0\t0\t1\t1\tH\n",
      "0\t0\t0\t0\t0\n",
      "Enter \"nm\" to reveal cell n of nmf to flag that cell:34\n",
      "You won!!!!\n",
      "Wohoooooo!!!!\n"
     ]
    }
   ],
   "source": [
    "game.play()"
   ]
  },
  {
   "cell_type": "code",
   "execution_count": null,
   "metadata": {},
   "outputs": [],
   "source": []
  }
 ],
 "metadata": {
  "kernelspec": {
   "display_name": "Python 3",
   "language": "python",
   "name": "python3"
  },
  "language_info": {
   "codemirror_mode": {
    "name": "ipython",
    "version": 3
   },
   "file_extension": ".py",
   "mimetype": "text/x-python",
   "name": "python",
   "nbconvert_exporter": "python",
   "pygments_lexer": "ipython3",
   "version": "3.7.1"
  }
 },
 "nbformat": 4,
 "nbformat_minor": 2
}
