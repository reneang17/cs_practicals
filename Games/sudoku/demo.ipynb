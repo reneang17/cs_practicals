{
 "cells": [
  {
   "cell_type": "code",
   "execution_count": 1,
   "metadata": {},
   "outputs": [],
   "source": [
    "from sudoku import *"
   ]
  },
  {
   "cell_type": "markdown",
   "metadata": {},
   "source": [
    "![title](img/sudoku.png)"
   ]
  },
  {
   "cell_type": "code",
   "execution_count": 2,
   "metadata": {},
   "outputs": [],
   "source": [
    "\n",
    "digits   = '123456789'\n",
    "rows     = 'ABCDEFGHI'\n",
    "cols     = '123456789'\n",
    "squares  = cross(rows, cols)\n",
    "unitlist = ([cross(rows, c) for c in cols] +\n",
    "            [cross(r, cols) for r in rows] +\n",
    "            [cross(rs, cs) for rs in ('ABC','DEF','GHI') for cs in ('123','456','789')])\n",
    "units = dict((s, [u for u in unitlist if s in u])\n",
    "             for s in squares)\n",
    "peers = dict((s, set(sum(units[s],[]))-set([s]))\n",
    "             for s in squares)\n"
   ]
  },
  {
   "cell_type": "code",
   "execution_count": 3,
   "metadata": {},
   "outputs": [],
   "source": [
    "def assign(values, s, d):\n",
    "    \"\"\"Eliminate all the other values (except d) from values[s] and propagate.\n",
    "    Return values, except return False if a contradiction is detected.\"\"\"\n",
    "    other_values = values[s].replace(d, '') #inmutable\n",
    "    if all(eliminate(values, s, d2) for d2 in other_values):\n",
    "        return values\n",
    "    else:\n",
    "        return False\n",
    "    \n",
    "def eliminate(values, s, d):\n",
    "    \"\"\"Eliminate d from values[s]; propagate when values or places <= 2.\n",
    "    Return values, except return False if a contradiction is detected.\"\"\"\n",
    "    if d not in values[s]:    # LineX\n",
    "        return values ## Already eliminated\n",
    "    values[s] = values[s].replace(d,'')\n",
    "    ## (1) If a square s is reduced to one value d2, then eliminate d2 from the peers.\n",
    "    if len(values[s]) == 0:\n",
    "        return False ## Contradiction: removed last value\n",
    "    elif len(values[s]) == 1:\n",
    "        d2 = values[s]\n",
    "        if not all(eliminate(values, s2, d2) for s2 in peers[s]):\n",
    "            return False\n",
    "    ## (2) If a unit u is reduced to only one place for a value d, then put it there.\n",
    "    for u in units[s]:\n",
    "        dplaces = [sq for sq in u if d in values[sq]] \n",
    "        if len(dplaces) == 0:\n",
    "            return False ## Contradiction: no place for this value\n",
    "        elif len(dplaces) == 1:\n",
    "            # d can only be in one place in unit; assign it there\n",
    "            if not assign(values, dplaces[0], d):\n",
    "                return False\n",
    "    return values\n",
    "\n"
   ]
  },
  {
   "cell_type": "code",
   "execution_count": 4,
   "metadata": {},
   "outputs": [],
   "source": [
    "#print(grid_values(grid_ex1))"
   ]
  },
  {
   "cell_type": "code",
   "execution_count": 5,
   "metadata": {},
   "outputs": [
    {
     "data": {
      "text/plain": [
       "('12', '2')"
      ]
     },
     "execution_count": 5,
     "metadata": {},
     "output_type": "execute_result"
    }
   ],
   "source": [
    "tmp = '12'\n",
    "tmp2 = tmp.replace('1','')\n",
    "tmp, tmp2"
   ]
  },
  {
   "cell_type": "code",
   "execution_count": 6,
   "metadata": {},
   "outputs": [],
   "source": [
    "format1 = \"4.....8.5.3..........7......2.....6.....8.4......1.......6.3.7.5..2.....1.4......\"\n",
    "format2 = \"\"\"\n",
    "400000805\n",
    "030000000\n",
    "000700000\n",
    "020000060\n",
    "000080400\n",
    "000010000\n",
    "000603070\n",
    "500200000\n",
    "104000000\"\"\"\n",
    "format3 = \"\"\"\n",
    "4 . . |. . . |8 . 5 \n",
    ". 3 . |. . . |. . . \n",
    ". . . |7 . . |. . . \n",
    "------+------+------\n",
    ". 2 . |. . . |. 6 . \n",
    ". . . |. 8 . |4 . . \n",
    ". . . |. 1 . |. . . \n",
    "------+------+------\n",
    ". . . |6 . 3 |. 7 . \n",
    "5 . . |2 . . |. . . \n",
    "1 . 4 |. . . |. . . \n",
    "\"\"\"\n",
    "\n",
    "grid_easy = '003020600900305001001806400008102900700000008006708200002609500800203009005010300'\n"
   ]
  },
  {
   "cell_type": "code",
   "execution_count": 7,
   "metadata": {},
   "outputs": [
    {
     "name": "stdout",
     "output_type": "stream",
     "text": [
      "   4      1679   12679  |  139     2369    269   |   8      1239     5    \n",
      " 26789     3    1256789 | 14589   24569   245689 | 12679    1249   124679 \n",
      "  2689   15689   125689 |   7     234569  245689 | 12369   12349   123469 \n",
      "------------------------+------------------------+------------------------\n",
      "  3789     2     15789  |  3459   34579    4579  | 13579     6     13789  \n",
      "  3679   15679   15679  |  359      8     25679  |   4     12359   12379  \n",
      " 36789     4     56789  |  359      1     25679  | 23579   23589   23789  \n",
      "------------------------+------------------------+------------------------\n",
      "  289      89     289   |   6      459      3    |  1259     7     12489  \n",
      "   5      6789     3    |   2      479      1    |   69     489     4689  \n",
      "   1      6789     4    |  589     579     5789  | 23569   23589   23689  \n",
      "\n"
     ]
    }
   ],
   "source": [
    "display(parse_grid(format1))"
   ]
  },
  {
   "cell_type": "code",
   "execution_count": 8,
   "metadata": {},
   "outputs": [
    {
     "name": "stdout",
     "output_type": "stream",
     "text": [
      "4 8 3 |9 2 1 |6 5 7 \n",
      "9 6 7 |3 4 5 |8 2 1 \n",
      "2 5 1 |8 7 6 |4 9 3 \n",
      "------+------+------\n",
      "5 4 8 |1 3 2 |9 7 6 \n",
      "7 2 9 |5 6 4 |1 3 8 \n",
      "1 3 6 |7 9 8 |2 4 5 \n",
      "------+------+------\n",
      "3 7 2 |6 8 9 |5 1 4 \n",
      "8 1 4 |2 5 3 |7 6 9 \n",
      "6 9 5 |4 1 7 |3 8 2 \n",
      "\n"
     ]
    }
   ],
   "source": [
    "display(parse_grid(grid_easy))"
   ]
  },
  {
   "cell_type": "code",
   "execution_count": 10,
   "metadata": {},
   "outputs": [],
   "source": [
    "hardest = from_file('hardest.txt')"
   ]
  },
  {
   "cell_type": "code",
   "execution_count": 13,
   "metadata": {},
   "outputs": [
    {
     "data": {
      "text/plain": [
       "'85...24..72......9..4.........1.7..23.5...9...4...........8..7..17..........36.4.'"
      ]
     },
     "execution_count": 13,
     "metadata": {},
     "output_type": "execute_result"
    }
   ],
   "source": [
    "hardest[0]"
   ]
  },
  {
   "cell_type": "code",
   "execution_count": 14,
   "metadata": {},
   "outputs": [
    {
     "name": "stdout",
     "output_type": "stream",
     "text": [
      "8 5 . |. . 2 |4 . . \n",
      "7 2 . |. . . |. . 9 \n",
      ". . 4 |. . . |. . . \n",
      "------+------+------\n",
      ". . . |1 . 7 |. . 2 \n",
      "3 . 5 |. . . |9 . . \n",
      ". 4 . |. . . |. . . \n",
      "------+------+------\n",
      ". . . |. 8 . |. 7 . \n",
      ". 1 7 |. . . |. . . \n",
      ". . . |. 3 6 |. 4 . \n",
      "\n",
      "8 5 9 |6 1 2 |4 3 7 \n",
      "7 2 3 |8 5 4 |1 6 9 \n",
      "1 6 4 |3 7 9 |5 2 8 \n",
      "------+------+------\n",
      "9 8 6 |1 4 7 |3 5 2 \n",
      "3 7 5 |2 6 8 |9 1 4 \n",
      "2 4 1 |5 9 3 |7 8 6 \n",
      "------+------+------\n",
      "4 3 2 |9 8 1 |6 7 5 \n",
      "6 1 7 |4 2 5 |8 9 3 \n",
      "5 9 8 |7 3 6 |2 4 1 \n",
      "\n",
      "(0.01 seconds)\n",
      "\n",
      ". . 5 |3 . . |. . . \n",
      "8 . . |. . . |. 2 . \n",
      ". 7 . |. 1 . |5 . . \n",
      "------+------+------\n",
      "4 . . |. . 5 |3 . . \n",
      ". 1 . |. 7 . |. . 6 \n",
      ". . 3 |2 . . |. 8 . \n",
      "------+------+------\n",
      ". 6 . |5 . . |. . 9 \n",
      ". . 4 |. . . |. 3 . \n",
      ". . . |. . 9 |7 . . \n",
      "\n",
      "1 4 5 |3 2 7 |6 9 8 \n",
      "8 3 9 |6 5 4 |1 2 7 \n",
      "6 7 2 |9 1 8 |5 4 3 \n",
      "------+------+------\n",
      "4 9 6 |1 8 5 |3 7 2 \n",
      "2 1 8 |4 7 3 |9 5 6 \n",
      "7 5 3 |2 9 6 |4 8 1 \n",
      "------+------+------\n",
      "3 6 7 |5 4 2 |8 1 9 \n",
      "9 8 4 |7 6 1 |2 3 5 \n",
      "5 2 1 |8 3 9 |7 6 4 \n",
      "\n",
      "(0.01 seconds)\n",
      "\n",
      "Solved 2 of 2 Inkala puzzles (avg 0.01 secs (128 Hz), max 0.01 secs).\n"
     ]
    }
   ],
   "source": [
    "solve_all(from_file(\"hardest.txt\")[0:2], 'Inkala')"
   ]
  },
  {
   "cell_type": "code",
   "execution_count": null,
   "metadata": {},
   "outputs": [],
   "source": []
  }
 ],
 "metadata": {
  "kernelspec": {
   "display_name": "Python 3",
   "language": "python",
   "name": "python3"
  },
  "language_info": {
   "codemirror_mode": {
    "name": "ipython",
    "version": 3
   },
   "file_extension": ".py",
   "mimetype": "text/x-python",
   "name": "python",
   "nbconvert_exporter": "python",
   "pygments_lexer": "ipython3",
   "version": "3.7.1"
  }
 },
 "nbformat": 4,
 "nbformat_minor": 2
}
