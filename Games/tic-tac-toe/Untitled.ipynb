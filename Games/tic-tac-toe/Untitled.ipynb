{
 "cells": [
  {
   "cell_type": "code",
   "execution_count": 1,
   "id": "f2fd087c",
   "metadata": {},
   "outputs": [
    {
     "name": "stdout",
     "output_type": "stream",
     "text": [
      "\u001b[H\u001b[2J"
     ]
    }
   ],
   "source": [
    "from tic_tac_toe import Board"
   ]
  },
  {
   "cell_type": "code",
   "execution_count": 2,
   "id": "f72194c6",
   "metadata": {},
   "outputs": [],
   "source": [
    "board = Board()"
   ]
  },
  {
   "cell_type": "code",
   "execution_count": null,
   "id": "7b8e83a1",
   "metadata": {},
   "outputs": [
    {
     "name": "stdout",
     "output_type": "stream",
     "text": [
      "\u001b[H\u001b[2JWelcome to Tic-Tac-Toe \n",
      "\n",
      "  |  |  \n",
      "__________\n",
      "  |  |  \n",
      "__________\n",
      "  |  |  \n"
     ]
    }
   ],
   "source": [
    "board.game()"
   ]
  },
  {
   "cell_type": "code",
   "execution_count": null,
   "id": "4003d96c",
   "metadata": {},
   "outputs": [],
   "source": []
  },
  {
   "cell_type": "code",
   "execution_count": null,
   "id": "01f6aa54",
   "metadata": {},
   "outputs": [],
   "source": [
    "\n",
    "board = Board()\n",
    "\n",
    "def print_header():\n",
    "    print(\"welcome to Tic-Tac-Toe \\n\")\n",
    "\n",
    "def refresh_screen():\n",
    "    #clear the screen\n",
    "    os.system(\"clear\")\n",
    "    print_header()\n",
    "    board.display()\n",
    "\n",
    "\n",
    "while True:\n",
    "    refresh_screen()\n",
    "\n",
    "    #get X input\n",
    "    x_choice = int(input(\"\\n X) Please choose 1-9.>\"))\n",
    "    if x_choice not in range(1,10):\n",
    "        x_choice = int(input(\"\\n X) Please choose 1-9.>\"))\n",
    "\n",
    "    if board.cells[x_choice] != \"\":\n",
    "        print(\"Cell occupied.\")\n",
    "        x_choice = int(input(\"\\n X) Please choose another 1-9 cell.>\"))\n",
    "    #Update board\n",
    "\n",
    "    board.update_cell(x_choice, \"X\")\n",
    "\n",
    "    # Refresh Screen\n",
    "    refresh_screen()\n",
    "    if board.is_winner(\"X\"):\n",
    "        print(\"\\n X Wins! \\n\")\n",
    "        play_again = input(\"Would you like to play again? (Y/N) > \").upper()\n",
    "        if play_again == \"Y\":\n",
    "            board.reset()\n",
    "            continue\n",
    "        else:\n",
    "            break\n",
    "    # get o input\n",
    "    o_choice = int(input(\"\\n O) Please choose 1-9.>\"))\n",
    "    # Update board\n",
    "    board.update_cell(o_choice, \"O\")\n",
    "\n",
    "    refresh_screen()\n",
    "    if board.is_winner(\"O\"):\n",
    "       print(\"\\n O Wins! \\n\")\n",
    "       play_again = input(\"Would you like to play again? (Y/N) > \").upper()\n",
    "       if play_again == \"Y\":\n",
    "           continue\n",
    "       else:\n",
    "           break"
   ]
  }
 ],
 "metadata": {
  "kernelspec": {
   "display_name": "snakes_kernel",
   "language": "python",
   "name": "snakes_kernel"
  },
  "language_info": {
   "codemirror_mode": {
    "name": "ipython",
    "version": 3
   },
   "file_extension": ".py",
   "mimetype": "text/x-python",
   "name": "python",
   "nbconvert_exporter": "python",
   "pygments_lexer": "ipython3",
   "version": "3.9.13"
  }
 },
 "nbformat": 4,
 "nbformat_minor": 5
}
